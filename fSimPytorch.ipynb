{
 "cells": [
  {
   "cell_type": "code",
   "execution_count": 14,
   "id": "1e4a7fd8",
   "metadata": {},
   "outputs": [],
   "source": [
    "import numpy as np\n",
    "import matplotlib.pyplot as plt\n",
    "from time import time as ti\n",
    "from matplotlib import cm\n",
    "from tqdm import tqdm\n",
    "\n",
    "# for pytorch\n",
    "from torch import zeros, tensor, roll, sin, sqrt, linspace\n",
    "from torch import sum as tsum\n",
    "import torch"
   ]
  },
  {
   "cell_type": "code",
   "execution_count": 15,
   "id": "02702ea2-1988-403c-acea-9b00ab2c2055",
   "metadata": {},
   "outputs": [
    {
     "name": "stdout",
     "output_type": "stream",
     "text": [
      "Torch version: 2.2.0+cu118\n"
     ]
    },
    {
     "data": {
      "text/plain": [
       "'NVIDIA GeForce GTX 1650 with Max-Q Design'"
      ]
     },
     "execution_count": 15,
     "metadata": {},
     "output_type": "execute_result"
    }
   ],
   "source": [
    "print(\"Torch version:\",torch.__version__)\n",
    "\n",
    "torch.cuda.get_device_name(0)\n"
   ]
  },
  {
   "cell_type": "code",
   "execution_count": 16,
   "id": "e69ccf2a-7cfa-460f-a884-eda077b2c4cb",
   "metadata": {},
   "outputs": [
    {
     "name": "stdout",
     "output_type": "stream",
     "text": [
      "cuda\n"
     ]
    }
   ],
   "source": [
    "# selecting device as cuda if available otherwise will set to cpu\n",
    "device = torch.device('cuda' if torch.cuda.is_available() else 'cpu')\n",
    "print(device)"
   ]
  },
  {
   "cell_type": "code",
   "execution_count": 17,
   "id": "5c4948fa-fe41-4ef2-a482-aab93f7b1a31",
   "metadata": {},
   "outputs": [],
   "source": [
    "\n",
    "def macroscopic(fin, nx, ny, v):\n",
    "    rho = tsum(fin,axis=0).to(device)   # sending data to device\n",
    "    u = zeros((2,nx,ny)).to(device) # sending data to device\n",
    "    for i in range(9):\n",
    "        u[0,:,:] += v[i,0]*fin[i,:,:]\n",
    "        u[1,:,:] += v[i,1]*fin[i,:,:]\n",
    "    u /= rho\n",
    "    return rho, u\n"
   ]
  },
  {
   "cell_type": "code",
   "execution_count": 18,
   "id": "fff82925-e328-48e0-97ce-c21726fc9e72",
   "metadata": {},
   "outputs": [],
   "source": [
    "def equilibrium(rho, u, v, t, nx, ny):\n",
    "    usqr = (3/2)*(u[0]**2+u[1]**2)\n",
    "    feq = zeros((9,nx,ny))\n",
    "    for i in range(9):\n",
    "        cu = 3*(v[i,0]*u[0,:,:] + v[i,1]*u[1,:,:])\n",
    "        feq[i,:,:] = rho*t[i]*(1+cu+0.5*cu**2-usqr)\n",
    "    return feq.to(device)"
   ]
  },
  {
   "cell_type": "code",
   "execution_count": 19,
   "id": "f137e6e0-c19f-46c0-b75b-64c4e519620e",
   "metadata": {},
   "outputs": [],
   "source": [
    "\n",
    "def obstacle_fun(cx, cy, r):\n",
    "    def inner(x, y):\n",
    "        return (x-cx)**2+(y-cy)**2<r**2\n",
    "    return inner\n"
   ]
  },
  {
   "cell_type": "code",
   "execution_count": 20,
   "id": "0c1167b1-b85b-42aa-9f39-81b0f1368cde",
   "metadata": {},
   "outputs": [],
   "source": [
    "\n",
    "def inivel(uLB, ly, d, nx, ny):\n",
    "    _,yy = torch.meshgrid(linspace(0, nx - 1, nx), linspace(0, ny - 1, ny))\n",
    "    yy.to(device)\n",
    "    vel = zeros((d, nx, ny)).to(device)\n",
    "    for dir in range(d):\n",
    "        vel[dir,:,:] = (1-dir) * uLB * (1+1e-4*sin(yy/ly*2*np.pi))\n",
    "    return vel"
   ]
  },
  {
   "cell_type": "code",
   "execution_count": 21,
   "id": "268cbc28-c0c0-45d7-a361-09fec86a4c67",
   "metadata": {},
   "outputs": [],
   "source": [
    "Re = 10.0                  # Reynolds number\n",
    "#------------------------------------------------------------------------------\n",
    "maxIter = 10000\n",
    "nx,ny = 420,180             # Domain dimensions\n",
    "ly = ny-1\n",
    "uLB = 0.04                  # Inlet velocity NON PHYSICAL??\n",
    "cx,cy,r = nx//4,ny//2,ny/9  # cylinder coordinates and radius (as integers)\n",
    "nulb = uLB*r/Re             # Viscosity\n",
    "omega = 1 / (3*nulb+0.5)    # Relaxation parameter\n"
   ]
  },
  {
   "cell_type": "code",
   "execution_count": 22,
   "id": "d3aca8f8-2842-48a5-b364-ce7e409404f9",
   "metadata": {},
   "outputs": [],
   "source": [
    "\n",
    "# lattice velocities\n",
    "v = tensor([\n",
    "            [1,1],\n",
    "            [1,0],\n",
    "            [1,-1],\n",
    "            [0,1],\n",
    "            [0,0],\n",
    "            [0,-1],\n",
    "            [-1,1],\n",
    "            [-1,0],\n",
    "            [-1,-1]\n",
    "            ]).int().to(device)\n",
    "\n",
    "# weights\n",
    "t = tensor([\n",
    "            1/36,\n",
    "            1/9,\n",
    "            1/36,\n",
    "            1/9,\n",
    "            4/9,\n",
    "            1/9,\n",
    "            1/36,\n",
    "            1/9,\n",
    "            1/36\n",
    "            ]).float().to(device)\n"
   ]
  },
  {
   "cell_type": "code",
   "execution_count": 24,
   "id": "840fc29c-f1bd-4cd4-a844-ae7a269d1af2",
   "metadata": {},
   "outputs": [],
   "source": [
    "col_0 = tensor([0,1,2]).long().to(device)\n",
    "col_1 = tensor([3,4,5]).long().to(device)\n",
    "col_2 = tensor([6,7,8]).long().to(device)\n",
    "\n"
   ]
  },
  {
   "cell_type": "code",
   "execution_count": 26,
   "id": "6629f3d7-8308-495a-bb2a-5dd949f9721d",
   "metadata": {},
   "outputs": [
    {
     "data": {
      "image/png": "[encoded data removed]",
      "text/plain": [
       "<Figure size 640x480 with 1 Axes>"
      ]
     },
     "metadata": {},
     "output_type": "display_data"
    }
   ],
   "source": [
    "# kwargs['shape'] = [nx, ny]\n",
    "# instantiate the cylindrical obstacle\n",
    "obstacle = torch.tensor(np.fromfunction(obstacle_fun(cx,cy,r),(nx, ny)))\n",
    "if True:\n",
    "  plt.imshow(obstacle)\n"
   ]
  },
  {
   "cell_type": "code",
   "execution_count": null,
   "id": "c005701d-400c-4d62-ba74-4eeddcac81fe",
   "metadata": {},
   "outputs": [
    {
     "name": "stderr",
     "output_type": "stream",
     "text": [
      " 28%|█████████████████████                                                       | 2764/10000 [01:17<02:44, 44.00it/s]"
     ]
    }
   ],
   "source": [
    "\n",
    "# initial velocity profile\n",
    "#vel = np.fromfunction(inivel(uLB,ly),(2,nx,ny))\n",
    "vel = inivel(uLB, ly, 2, nx, ny)\n",
    "\n",
    "# initialize fin to equilibirum (rho = 1)\n",
    "fin = equilibrium(1,vel,v,t,nx,ny).to(device)\n",
    "\n",
    "#==============================================================================\n",
    "#   Time-Stepping\n",
    "#==============================================================================\n",
    "t0 = ti()\n",
    "for time in tqdm(range(maxIter)):\n",
    "    # outflow boundary condition (right side) NEUMANN BC! No gradient\n",
    "    fin[col_2,-1,:] = fin[col_2,-2,:]\n",
    "\n",
    "    # compute macroscopic variables\n",
    "    rho,u = macroscopic(fin,nx,ny,v)\n",
    "\n",
    "    # inlet boundary condition (left wall)\n",
    "    u[:,0,:] = vel[:,0,:]\n",
    "    rho[0,:] = 1/(1-u[0,0,:])*( tsum(fin[col_1,0,:], axis = 0)+\n",
    "                                2*tsum(fin[col_2,0,:], axis = 0))\n",
    "\n",
    "    feq = equilibrium(rho,u,v,t,nx,ny)\n",
    "    fin[col_0,0,:] = feq[col_0,0,:] + fin[col_2,0,:]-feq[col_2,0,:]\n",
    "\n",
    "    # Collide\n",
    "    fout = fin - omega*(fin-feq)\n",
    "\n",
    "    # bounceback\n",
    "    for i in range(9):\n",
    "        fout[i,obstacle] = fin[8-i,obstacle]\n",
    "\n",
    "    # stream\n",
    "    for i in range(9):\n",
    "        # be careful with this -> numpy.roll cycles through an array by an axis\n",
    "        # and the last element becomes the first. this implements a periodic\n",
    "        # boundary in a very compact syntax, but needs to be reworked for other\n",
    "        # implementations\n",
    "        fin[i,:,:] = roll(\n",
    "                          roll(\n",
    "                                fout[i,:,:], v[i,0].item(), dims = 0\n",
    "                               ),\n",
    "                          v[i,1].item(), dims = 1\n",
    "                          )\n",
    "\n",
    "    # Output an image every 100 iterations\n",
    "    if (time%100 == 0):\n",
    "        plt.clf()\n",
    "        u_temp = u.cpu()\n",
    "        x_temp = int(round(5 * nx / ny))\n",
    "        y_temp = int(round(5))\n",
    "        plt.imshow(sqrt(u_temp[0]**2+u_temp[1]**2).T, cmap= 'Reds')\n",
    "        plt.savefig(\"./torchTest1/vel{0:03d}.png\".format(time//100))\n",
    "tf = ti() - t0\n",
    "\n",
    "print(\"time to execute = \",tf)"
   ]
  },
  {
   "cell_type": "code",
   "execution_count": null,
   "id": "6ced2aac-3228-41c0-92e8-404148a73a37",
   "metadata": {},
   "outputs": [],
   "source": []
  },
  {
   "cell_type": "code",
   "execution_count": null,
   "id": "ee11a1c5-8632-4116-bcb7-0be0ea5abb6d",
   "metadata": {},
   "outputs": [],
   "source": []
  },
  {
   "cell_type": "code",
   "execution_count": null,
   "id": "c9282609-e098-4947-8b73-32c9c1f82a0d",
   "metadata": {},
   "outputs": [],
   "source": []
  }
 ],
 "metadata": {
  "kernelspec": {
   "display_name": "Python 3 (ipykernel)",
   "language": "python",
   "name": "python3"
  },
  "language_info": {
   "codemirror_mode": {
    "name": "ipython",
    "version": 3
   },
   "file_extension": ".py",
   "mimetype": "text/x-python",
   "name": "python",
   "nbconvert_exporter": "python",
   "pygments_lexer": "ipython3",
   "version": "3.8.18"
  }
 },
 "nbformat": 4,
 "nbformat_minor": 5
}
