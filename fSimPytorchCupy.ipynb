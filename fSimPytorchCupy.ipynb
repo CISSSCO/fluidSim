{
 "cells": [
  {
   "cell_type": "code",
   "execution_count": 1,
   "id": "1e4a7fd8",
   "metadata": {
    "editable": true,
    "slideshow": {
     "slide_type": ""
    },
    "tags": []
   },
   "outputs": [
    {
     "name": "stderr",
     "output_type": "stream",
     "text": [
      "/home/cisco581b/.local/lib/python3.8/site-packages/cupy/_environment.py:447: UserWarning: \n",
      "--------------------------------------------------------------------------------\n",
      "\n",
      "  CuPy may not function correctly because multiple CuPy packages are installed\n",
      "  in your environment:\n",
      "\n",
      "    cupy, cupy-cuda12x\n",
      "\n",
      "  Follow these steps to resolve this issue:\n",
      "\n",
      "    1. For all packages listed above, run the following command to remove all\n",
      "       existing CuPy installations:\n",
      "\n",
      "         $ pip uninstall <package_name>\n",
      "\n",
      "      If you previously installed CuPy via conda, also run the following:\n",
      "\n",
      "         $ conda uninstall cupy\n",
      "\n",
      "    2. Install the appropriate CuPy package.\n",
      "       Refer to the Installation Guide for detailed instructions.\n",
      "\n",
      "         https://docs.cupy.dev/en/stable/install.html\n",
      "\n",
      "--------------------------------------------------------------------------------\n",
      "\n",
      "  warnings.warn(f'''\n"
     ]
    }
   ],
   "source": [
    "import numpy as np\n",
    "import matplotlib.pyplot as plt\n",
    "from time import time as ti\n",
    "from matplotlib import cm\n",
    "from tqdm import tqdm\n",
    "import cupy as cp\n",
    "# import cupy\n",
    "\n",
    "# for pytorch\n",
    "from torch import zeros, tensor, roll, sin, sqrt, linspace\n",
    "from torch import sum as tsum\n",
    "import torch\n",
    "# from cupy import cupyx\n",
    "# import cupyx\n",
    "# import nvtx\n",
    "\n",
    "# for profiling\n",
    "# from cupyx.profile import time_range, benchmark"
   ]
  },
  {
   "cell_type": "code",
   "execution_count": 82,
   "id": "02702ea2-1988-403c-acea-9b00ab2c2055",
   "metadata": {},
   "outputs": [
    {
     "name": "stdout",
     "output_type": "stream",
     "text": [
      "Torch version: 2.2.0+cu118\n"
     ]
    },
    {
     "data": {
      "text/plain": [
       "'NVIDIA GeForce GTX 1650 with Max-Q Design'"
      ]
     },
     "execution_count": 82,
     "metadata": {},
     "output_type": "execute_result"
    }
   ],
   "source": [
    "print(\"Torch version:\",torch.__version__)\n",
    "\n",
    "torch.cuda.get_device_name(0)"
   ]
  },
  {
   "cell_type": "code",
   "execution_count": 104,
   "id": "68b806e6-e1c5-4354-874a-3ac658af2ddb",
   "metadata": {},
   "outputs": [
    {
     "name": "stdout",
     "output_type": "stream",
     "text": [
      "Sat Feb 17 21:28:15 2024       \n",
      "+-----------------------------------------------------------------------------------------+\n",
      "| NVIDIA-SMI 550.40.07              Driver Version: 551.52         CUDA Version: 12.4     |\n",
      "|-----------------------------------------+------------------------+----------------------+\n",
      "| GPU  Name                 Persistence-M | Bus-Id          Disp.A | Volatile Uncorr. ECC |\n",
      "| Fan  Temp   Perf          Pwr:Usage/Cap |           Memory-Usage | GPU-Util  Compute M. |\n",
      "|                                         |                        |               MIG M. |\n",
      "|=========================================+========================+======================|\n",
      "|   0  NVIDIA GeForce GTX 1650 ...    On  |   00000000:02:00.0 Off |                  N/A |\n",
      "| N/A   48C    P0             12W /   35W |      24MiB /   4096MiB |      1%      Default |\n",
      "|                                         |                        |                  N/A |\n",
      "+-----------------------------------------+------------------------+----------------------+\n",
      "                                                                                         \n",
      "+-----------------------------------------------------------------------------------------+\n",
      "| Processes:                                                                              |\n",
      "|  GPU   GI   CI        PID   Type   Process name                              GPU Memory |\n",
      "|        ID   ID                                                               Usage      |\n",
      "|=========================================================================================|\n",
      "|    0   N/A  N/A     79718      C   /python3.8                                  N/A      |\n",
      "|    0   N/A  N/A     79721      C   /python3.8                                  N/A      |\n",
      "|    0   N/A  N/A     80035      C   /python3.8                                  N/A      |\n",
      "+-----------------------------------------------------------------------------------------+\n"
     ]
    }
   ],
   "source": [
    "! nvidia-smi "
   ]
  },
  {
   "cell_type": "code",
   "execution_count": 94,
   "id": "8c3c1da0-bbbb-4818-93dd-e1642018cf27",
   "metadata": {},
   "outputs": [
    {
     "name": "stdout",
     "output_type": "stream",
     "text": [
      "cuda\n"
     ]
    }
   ],
   "source": [
    "# selecting device as cuda if available otherwise will set to cpu\n",
    "device = torch.device('cuda' if torch.cuda.is_available() else 'cpu')\n",
    "print(device)"
   ]
  },
  {
   "cell_type": "code",
   "execution_count": 69,
   "id": "5c4948fa-fe41-4ef2-a482-aab93f7b1a31",
   "metadata": {},
   "outputs": [],
   "source": [
    "def macroscopic(fin, nx, ny, v):\n",
    "    rho = tsum(fin,axis=0).to(device)   # sending data to device\n",
    "    u = zeros((2,nx,ny)).to(device) # sending data to device\n",
    "    for i in range(9):\n",
    "        u[0,:,:] += v[i,0]*fin[i,:,:]\n",
    "        u[1,:,:] += v[i,1]*fin[i,:,:]\n",
    "    u /= rho\n",
    "    return rho, u\n"
   ]
  },
  {
   "cell_type": "code",
   "execution_count": 70,
   "id": "f137e6e0-c19f-46c0-b75b-64c4e519620e",
   "metadata": {},
   "outputs": [],
   "source": [
    "\n",
    "def obstacle_fun(cx, cy, r):\n",
    "    def inner(x, y):\n",
    "        return (x-cx)**2+(y-cy)**2<r**2\n",
    "    return inner\n"
   ]
  },
  {
   "cell_type": "code",
   "execution_count": 71,
   "id": "fff82925-e328-48e0-97ce-c21726fc9e72",
   "metadata": {},
   "outputs": [],
   "source": [
    "# @time_range()\n",
    "def equilibrium(rho, u, v, t, nx, ny):\n",
    "    usqr = (3/2)*(u[0]**2+u[1]**2)\n",
    "    feq = zeros((9,nx,ny))\n",
    "    for i in range(9):\n",
    "        cu = 3*(v[i,0]*u[0,:,:] + v[i,1]*u[1,:,:])\n",
    "        feq[i,:,:] = rho*t[i]*(1+cu+0.5*cu**2-usqr)\n",
    "    return feq.to(device)"
   ]
  },
  {
   "cell_type": "code",
   "execution_count": 72,
   "id": "0c1167b1-b85b-42aa-9f39-81b0f1368cde",
   "metadata": {},
   "outputs": [],
   "source": [
    "# @time_range()\n",
    "def inivel(uLB, ly, d, nx, ny):\n",
    "    _,yy = torch.meshgrid(linspace(0, nx - 1, nx), linspace(0, ny - 1, ny))\n",
    "    yy.to(device)\n",
    "    vel = zeros((d, nx, ny)).to(device)\n",
    "    for dir in range(d):\n",
    "        vel[dir,:,:] = (1-dir) * uLB * (1+1e-4*sin(yy/ly*2*np.pi))\n",
    "    return vel"
   ]
  },
  {
   "cell_type": "code",
   "execution_count": 73,
   "id": "268cbc28-c0c0-45d7-a361-09fec86a4c67",
   "metadata": {},
   "outputs": [],
   "source": [
    "Re = 10.0                  # Reynolds number\n",
    "#------------------------------------------------------------------------------\n",
    "maxIter = 10000\n",
    "nx,ny = 420,180             # Domain dimensions\n",
    "ly = ny-1\n",
    "uLB = 0.04                  # Inlet velocity NON PHYSICAL??\n",
    "cx,cy,r = nx//4,ny//2,ny/9  # cylinder coordinates and radius (as integers)\n",
    "nulb = uLB*r/Re             # Viscosity\n",
    "omega = 1 / (3*nulb+0.5)    # Relaxation parameter\n"
   ]
  },
  {
   "cell_type": "code",
   "execution_count": 74,
   "id": "d3aca8f8-2842-48a5-b364-ce7e409404f9",
   "metadata": {},
   "outputs": [],
   "source": [
    "\n",
    "# lattice velocities\n",
    "v = tensor([\n",
    "            [1,1],\n",
    "            [1,0],\n",
    "            [1,-1],\n",
    "            [0,1],\n",
    "            [0,0],\n",
    "            [0,-1],\n",
    "            [-1,1],\n",
    "            [-1,0],\n",
    "            [-1,-1]\n",
    "            ]).int().to(device)\n",
    "\n",
    "# weights\n",
    "t = tensor([\n",
    "            1/36,\n",
    "            1/9,\n",
    "            1/36,\n",
    "            1/9,\n",
    "            4/9,\n",
    "            1/9,\n",
    "            1/36,\n",
    "            1/9,\n",
    "            1/36\n",
    "            ]).float().to(device)\n"
   ]
  },
  {
   "cell_type": "code",
   "execution_count": 75,
   "id": "840fc29c-f1bd-4cd4-a844-ae7a269d1af2",
   "metadata": {},
   "outputs": [],
   "source": [
    "col_0 = tensor([0,1,2]).long().to(device)\n",
    "col_1 = tensor([3,4,5]).long().to(device)\n",
    "col_2 = tensor([6,7,8]).long().to(device)\n",
    "\n"
   ]
  },
  {
   "cell_type": "code",
   "execution_count": 76,
   "id": "6629f3d7-8308-495a-bb2a-5dd949f9721d",
   "metadata": {},
   "outputs": [
    {
     "data": {
      "image/png": "[encoded data removed]",
      "text/plain": [
       "<Figure size 640x480 with 1 Axes>"
      ]
     },
     "metadata": {},
     "output_type": "display_data"
    }
   ],
   "source": [
    "# kwargs['shape'] = [nx, ny]\n",
    "# instantiate the cylindrical obstacle\n",
    "obstacle = torch.tensor(np.fromfunction(obstacle_fun(cx,cy,r),(nx, ny)))\n",
    "if True:\n",
    "  plt.imshow(obstacle)\n"
   ]
  },
  {
   "cell_type": "code",
   "execution_count": 79,
   "id": "c005701d-400c-4d62-ba74-4eeddcac81fe",
   "metadata": {},
   "outputs": [
    {
     "name": "stderr",
     "output_type": "stream",
     "text": [
      " 59%|█████████████████████████████████████████████                               | 5934/10000 [03:17<02:15, 30.03it/s]\n"
     ]
    },
    {
     "ename": "KeyboardInterrupt",
     "evalue": "",
     "output_type": "error",
     "traceback": [
      "\u001b[0;31m---------------------------------------------------------------------------\u001b[0m",
      "\u001b[0;31mKeyboardInterrupt\u001b[0m                         Traceback (most recent call last)",
      "Cell \u001b[0;32mIn[79], line 17\u001b[0m\n\u001b[1;32m     14\u001b[0m fin[col_2,\u001b[38;5;241m-\u001b[39m\u001b[38;5;241m1\u001b[39m,:] \u001b[38;5;241m=\u001b[39m fin[col_2,\u001b[38;5;241m-\u001b[39m\u001b[38;5;241m2\u001b[39m,:]\n\u001b[1;32m     16\u001b[0m \u001b[38;5;66;03m# compute macroscopic variables\u001b[39;00m\n\u001b[0;32m---> 17\u001b[0m rho,u \u001b[38;5;241m=\u001b[39m \u001b[43mmacroscopic\u001b[49m\u001b[43m(\u001b[49m\u001b[43mfin\u001b[49m\u001b[43m,\u001b[49m\u001b[43mnx\u001b[49m\u001b[43m,\u001b[49m\u001b[43mny\u001b[49m\u001b[43m,\u001b[49m\u001b[43mv\u001b[49m\u001b[43m)\u001b[49m\n\u001b[1;32m     19\u001b[0m \u001b[38;5;66;03m# inlet boundary condition (left wall)\u001b[39;00m\n\u001b[1;32m     20\u001b[0m u[:,\u001b[38;5;241m0\u001b[39m,:] \u001b[38;5;241m=\u001b[39m vel[:,\u001b[38;5;241m0\u001b[39m,:]\n",
      "File \u001b[0;32m~/git/miniconda/envs/project/lib/python3.8/site-packages/nvtx/nvtx.py:116\u001b[0m, in \u001b[0;36mannotate.__call__.<locals>.inner\u001b[0;34m(*args, **kwargs)\u001b[0m\n\u001b[1;32m    113\u001b[0m \u001b[38;5;129m@wraps\u001b[39m(func)\n\u001b[1;32m    114\u001b[0m \u001b[38;5;28;01mdef\u001b[39;00m \u001b[38;5;21minner\u001b[39m(\u001b[38;5;241m*\u001b[39margs, \u001b[38;5;241m*\u001b[39m\u001b[38;5;241m*\u001b[39mkwargs):\n\u001b[1;32m    115\u001b[0m     libnvtx_push_range(\u001b[38;5;28mself\u001b[39m\u001b[38;5;241m.\u001b[39mattributes, \u001b[38;5;28mself\u001b[39m\u001b[38;5;241m.\u001b[39mdomain\u001b[38;5;241m.\u001b[39mhandle)\n\u001b[0;32m--> 116\u001b[0m     result \u001b[38;5;241m=\u001b[39m \u001b[43mfunc\u001b[49m\u001b[43m(\u001b[49m\u001b[38;5;241;43m*\u001b[39;49m\u001b[43margs\u001b[49m\u001b[43m,\u001b[49m\u001b[43m \u001b[49m\u001b[38;5;241;43m*\u001b[39;49m\u001b[38;5;241;43m*\u001b[39;49m\u001b[43mkwargs\u001b[49m\u001b[43m)\u001b[49m\n\u001b[1;32m    117\u001b[0m     libnvtx_pop_range(\u001b[38;5;28mself\u001b[39m\u001b[38;5;241m.\u001b[39mdomain\u001b[38;5;241m.\u001b[39mhandle)\n\u001b[1;32m    118\u001b[0m     \u001b[38;5;28;01mreturn\u001b[39;00m result\n",
      "Cell \u001b[0;32mIn[69], line 4\u001b[0m, in \u001b[0;36mmacroscopic\u001b[0;34m(fin, nx, ny, v)\u001b[0m\n\u001b[1;32m      1\u001b[0m \u001b[38;5;129m@nvtx\u001b[39m\u001b[38;5;241m.\u001b[39mannotate(color\u001b[38;5;241m=\u001b[39m\u001b[38;5;124m\"\u001b[39m\u001b[38;5;124mred\u001b[39m\u001b[38;5;124m\"\u001b[39m)\n\u001b[1;32m      2\u001b[0m \u001b[38;5;28;01mdef\u001b[39;00m \u001b[38;5;21mmacroscopic\u001b[39m(fin, nx, ny, v):\n\u001b[1;32m      3\u001b[0m     rho \u001b[38;5;241m=\u001b[39m tsum(fin,axis\u001b[38;5;241m=\u001b[39m\u001b[38;5;241m0\u001b[39m)\u001b[38;5;241m.\u001b[39mto(device)   \u001b[38;5;66;03m# sending data to device\u001b[39;00m\n\u001b[0;32m----> 4\u001b[0m     u \u001b[38;5;241m=\u001b[39m \u001b[43mzeros\u001b[49m\u001b[43m(\u001b[49m\u001b[43m(\u001b[49m\u001b[38;5;241;43m2\u001b[39;49m\u001b[43m,\u001b[49m\u001b[43mnx\u001b[49m\u001b[43m,\u001b[49m\u001b[43mny\u001b[49m\u001b[43m)\u001b[49m\u001b[43m)\u001b[49m\u001b[38;5;241;43m.\u001b[39;49m\u001b[43mto\u001b[49m\u001b[43m(\u001b[49m\u001b[43mdevice\u001b[49m\u001b[43m)\u001b[49m \u001b[38;5;66;03m# sending data to device\u001b[39;00m\n\u001b[1;32m      5\u001b[0m     \u001b[38;5;28;01mfor\u001b[39;00m i \u001b[38;5;129;01min\u001b[39;00m \u001b[38;5;28mrange\u001b[39m(\u001b[38;5;241m9\u001b[39m):\n\u001b[1;32m      6\u001b[0m         u[\u001b[38;5;241m0\u001b[39m,:,:] \u001b[38;5;241m+\u001b[39m\u001b[38;5;241m=\u001b[39m v[i,\u001b[38;5;241m0\u001b[39m]\u001b[38;5;241m*\u001b[39mfin[i,:,:]\n",
      "\u001b[0;31mKeyboardInterrupt\u001b[0m: "
     ]
    },
    {
     "data": {
      "image/png": "[encoded data removed]",
      "text/plain": [
       "<Figure size 640x480 with 1 Axes>"
      ]
     },
     "metadata": {},
     "output_type": "display_data"
    }
   ],
   "source": [
    "\n",
    "# initial velocity profile\n",
    "#vel = np.fromfunction(inivel(uLB,ly),(2,nx,ny))\n",
    "vel = inivel(uLB, ly, 2, nx, ny)\n",
    "\n",
    "# initialize fin to equilibirum (rho = 1)\n",
    "fin = equilibrium(1,vel,v,t,nx,ny).to(device)\n",
    "\n",
    "#==============================================================================\n",
    "#   Time-Stepping\n",
    "#==============================================================================\n",
    "t0 = ti()\n",
    "for time in tqdm(range(maxIter)):\n",
    "    # outflow boundary condition (right side) NEUMANN BC! No gradient\n",
    "    fin[col_2,-1,:] = fin[col_2,-2,:]\n",
    "\n",
    "    # compute macroscopic variables\n",
    "    rho,u = macroscopic(fin,nx,ny,v)\n",
    "\n",
    "    # inlet boundary condition (left wall)\n",
    "    u[:,0,:] = vel[:,0,:]\n",
    "    rho[0,:] = 1/(1-u[0,0,:])*( tsum(fin[col_1,0,:], axis = 0)+\n",
    "                                2*tsum(fin[col_2,0,:], axis = 0))\n",
    "\n",
    "    feq = equilibrium(rho,u,v,t,nx,ny)\n",
    "    fin[col_0,0,:] = feq[col_0,0,:] + fin[col_2,0,:]-feq[col_2,0,:]\n",
    "\n",
    "    # Collide\n",
    "    fout = fin - omega*(fin-feq)\n",
    "\n",
    "    # bounceback\n",
    "    for i in range(9):\n",
    "        fout[i,obstacle] = fin[8-i,obstacle]\n",
    "\n",
    "    # stream\n",
    "    for i in range(9):\n",
    "        # be careful with this -> numpy.roll cycles through an array by an axis\n",
    "        # and the last element becomes the first. this implements a periodic\n",
    "        # boundary in a very compact syntax, but needs to be reworked for other\n",
    "        # implementations\n",
    "        fin[i,:,:] = roll(\n",
    "                          roll(\n",
    "                                fout[i,:,:], v[i,0].item(), dims = 0\n",
    "                               ),\n",
    "                          v[i,1].item(), dims = 1\n",
    "                          )\n",
    "\n",
    "    # Output an image every 100 iterations\n",
    "    if (time%100 == 0):\n",
    "        plt.clf()\n",
    "        u_temp = u.cpu()\n",
    "        x_temp = int(round(5 * nx / ny))\n",
    "        y_temp = int(round(5))\n",
    "        plt.imshow(sqrt(u_temp[0]**2+u_temp[1]**2).T, cmap= 'PiYG')\n",
    "        plt.savefig(\"./testFolder/vel{0:03d}.png\".format(time//100))\n",
    "tf = ti() - t0\n",
    "\n",
    "print(\"time to execute = \",tf)"
   ]
  },
  {
   "cell_type": "code",
   "execution_count": 80,
   "id": "6ced2aac-3228-41c0-92e8-404148a73a37",
   "metadata": {
    "scrolled": true
   },
   "outputs": [
    {
     "name": "stdout",
     "output_type": "stream",
     "text": [
      "Torch version: 2.2.0+cu118\n",
      "cuda\n",
      "/home/cisco581b/.local/lib/python3.8/site-packages/cupy/_environment.py:447: UserWarning: \n",
      "--------------------------------------------------------------------------------\n",
      "\n",
      "  CuPy may not function correctly because multiple CuPy packages are installed\n",
      "  in your environment:\n",
      "\n",
      "    cupy, cupy-cuda12x\n",
      "\n",
      "  Follow these steps to resolve this issue:\n",
      "\n",
      "    1. For all packages listed above, run the following command to remove all\n",
      "       existing CuPy installations:\n",
      "\n",
      "         $ pip uninstall <package_name>\n",
      "\n",
      "      If you previously installed CuPy via conda, also run the following:\n",
      "\n",
      "         $ conda uninstall cupy\n",
      "\n",
      "    2. Install the appropriate CuPy package.\n",
      "       Refer to the Installation Guide for detailed instructions.\n",
      "\n",
      "         https://docs.cupy.dev/en/stable/install.html\n",
      "\n",
      "--------------------------------------------------------------------------------\n",
      "\n",
      "  warnings.warn(f'''\n",
      "Traceback (most recent call last):\n",
      "  File \"nvtx.py\", line 21, in <module>\n",
      "    import nvtx\n",
      "  File \"/home/cisco581b/project/fluidSim/nvtx.py\", line 46, in <module>\n",
      "    @nvtx.annotate(color=\"red\")\n",
      "AttributeError: partially initialized module 'nvtx' has no attribute 'annotate' (most likely due to a circular import)\n",
      "Generating '/tmp/nsys-report-e438.qdstrm'\n",
      "[1/1] [========================100%] report6.nsys-rep\n",
      "Generated:\n",
      "    /home/cisco581b/project/fluidSim/report6.nsys-rep\n"
     ]
    }
   ],
   "source": [
    "! nsys profile -t cuda,nvtx python3 nvtx.py"
   ]
  },
  {
   "cell_type": "code",
   "execution_count": null,
   "id": "ee11a1c5-8632-4116-bcb7-0be0ea5abb6d",
   "metadata": {},
   "outputs": [],
   "source": [
    "# ! nsys analyze report5.nsys-rep\n",
    "\n"
   ]
  },
  {
   "cell_type": "code",
   "execution_count": null,
   "id": "c9282609-e098-4947-8b73-32c9c1f82a0d",
   "metadata": {},
   "outputs": [],
   "source": []
  }
 ],
 "metadata": {
  "kernelspec": {
   "display_name": "Python 3 (ipykernel)",
   "language": "python",
   "name": "python3"
  },
  "language_info": {
   "codemirror_mode": {
    "name": "ipython",
    "version": 3
   },
   "file_extension": ".py",
   "mimetype": "text/x-python",
   "name": "python",
   "nbconvert_exporter": "python",
   "pygments_lexer": "ipython3",
   "version": "3.8.18"
  }
 },
 "nbformat": 4,
 "nbformat_minor": 5
}
