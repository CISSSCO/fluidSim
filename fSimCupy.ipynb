{
 "cells": [
  {
   "cell_type": "code",
   "execution_count": null,
   "id": "cf3ec486-eae8-4879-9307-4755738acd5b",
   "metadata": {},
   "outputs": [],
   "source": []
  },
  {
   "cell_type": "code",
   "execution_count": 1,
   "id": "1e4a7fd8",
   "metadata": {
    "editable": true,
    "slideshow": {
     "slide_type": ""
    },
    "tags": []
   },
   "outputs": [
    {
     "name": "stderr",
     "output_type": "stream",
     "text": [
      "/home/cisco581b/.local/lib/python3.8/site-packages/cupy/_environment.py:447: UserWarning: \n",
      "--------------------------------------------------------------------------------\n",
      "\n",
      "  CuPy may not function correctly because multiple CuPy packages are installed\n",
      "  in your environment:\n",
      "\n",
      "    cupy-cuda11x, cupy-cuda12x\n",
      "\n",
      "  Follow these steps to resolve this issue:\n",
      "\n",
      "    1. For all packages listed above, run the following command to remove all\n",
      "       existing CuPy installations:\n",
      "\n",
      "         $ pip uninstall <package_name>\n",
      "\n",
      "      If you previously installed CuPy via conda, also run the following:\n",
      "\n",
      "         $ conda uninstall cupy\n",
      "\n",
      "    2. Install the appropriate CuPy package.\n",
      "       Refer to the Installation Guide for detailed instructions.\n",
      "\n",
      "         https://docs.cupy.dev/en/stable/install.html\n",
      "\n",
      "--------------------------------------------------------------------------------\n",
      "\n",
      "  warnings.warn(f'''\n"
     ]
    }
   ],
   "source": [
    "import numpy as np\n",
    "import matplotlib.pyplot as plt\n",
    "from time import time as ti\n",
    "from matplotlib import cm\n",
    "from tqdm import tqdm\n",
    "from numba import cuda\n",
    "import cupy as cp\n",
    "\n",
    "# # for pytorch\n",
    "# from torch import zeros, cp.array, roll, sin, sqrt, linspace\n",
    "# from torch import sum as tsum\n",
    "# import torch"
   ]
  },
  {
   "cell_type": "code",
   "execution_count": 2,
   "id": "02702ea2-1988-403c-acea-9b00ab2c2055",
   "metadata": {},
   "outputs": [],
   "source": [
    "# print(\"Torch version:\",torch.__version__)\n",
    "\n",
    "# torch.cuda.get_device_name(0)\n"
   ]
  },
  {
   "cell_type": "code",
   "execution_count": 3,
   "id": "e69ccf2a-7cfa-460f-a884-eda077b2c4cb",
   "metadata": {},
   "outputs": [],
   "source": [
    "# selecting device as cuda if available otherwise will set to cpu\n",
    "# device = torch.device('cuda' if torch.cuda.is_available() else 'cpu')\n",
    "# print(device)"
   ]
  },
  {
   "cell_type": "code",
   "execution_count": 4,
   "id": "5c4948fa-fe41-4ef2-a482-aab93f7b1a31",
   "metadata": {},
   "outputs": [],
   "source": [
    "# @cuda.jit\n",
    "def macroscopic(fin, nx, ny, v):\n",
    "    rho = cp.sum(fin,axis=0)    # sending data to device\n",
    "    # rho_gpu = cuda.to_device(rho)\n",
    "    u = cp.zeros((2,nx,ny))  # sending data to device\n",
    "    # u_gpu = cuda.to_device(u)\n",
    "    # i = cuda.grid(1)\n",
    "    for i in range(9):\n",
    "        u[0,:,:] += v[i,0]*fin[i,:,:]\n",
    "        u[1,:,:] += v[i,1]*fin[i,:,:]\n",
    "    u /= rho\n",
    "    return rho, u\n"
   ]
  },
  {
   "cell_type": "code",
   "execution_count": 5,
   "id": "fff82925-e328-48e0-97ce-c21726fc9e72",
   "metadata": {},
   "outputs": [],
   "source": [
    "# @cuda.jit\n",
    "def equilibrium(rho, u, v, t, nx, ny):\n",
    "    usqr = (3/2)*(u[0]**2+u[1]**2)\n",
    "    feq = cp.zeros((9,nx,ny))\n",
    "    # i = cuda.grid(1)\n",
    "    for i in range(9):\n",
    "        cu = 3*(v[i,0]*u[0,:,:] + v[i,1]*u[1,:,:])\n",
    "        feq[i,:,:] = rho*t[i]*(1+cu+0.5*cu**2-usqr)\n",
    "    return feq"
   ]
  },
  {
   "cell_type": "code",
   "execution_count": 6,
   "id": "f137e6e0-c19f-46c0-b75b-64c4e519620e",
   "metadata": {},
   "outputs": [],
   "source": [
    "\n",
    "def obstacle_fun(cx, cy, r):\n",
    "    def inner(x, y):\n",
    "        return (x-cx)**2+(y-cy)**2<r**2\n",
    "    return inner\n"
   ]
  },
  {
   "cell_type": "code",
   "execution_count": 7,
   "id": "0c1167b1-b85b-42aa-9f39-81b0f1368cde",
   "metadata": {},
   "outputs": [],
   "source": [
    "\n",
    "def inivel(uLB, ly, d, nx, ny):\n",
    "    _,yy = cp.meshgrid(cp.linspace(0, nx - 1, nx), cp.linspace(0, ny - 1, ny))\n",
    "    yy = yy.T\n",
    "    # yy.to(device)\n",
    "    # vel = zeros((d, nx, ny)).to(device)\n",
    "    vel = cp.zeros((d, nx, ny))\n",
    "    for dir in range(d):\n",
    "        vel[dir,:,:] = (1-dir) * uLB * (1+1e-4*cp.sin(yy/ly*2*cp.pi))\n",
    "    return vel\n",
    "\n",
    "\n",
    "# def inivel( uLB, ly):\n",
    "#     def inner(d,x,y):\n",
    "#         return (1-d) * uLB * (1+1e-4*cp.sin(y/ly*2*np.pi))\n",
    "#     return inner\n",
    "    \n"
   ]
  },
  {
   "cell_type": "code",
   "execution_count": 8,
   "id": "268cbc28-c0c0-45d7-a361-09fec86a4c67",
   "metadata": {},
   "outputs": [],
   "source": [
    "Re = 50.0                  # Reynolds number\n",
    "#------------------------------------------------------------------------------\n",
    "maxIter = 30000\n",
    "nx,ny = 720,340             # Domain dimensions\n",
    "ly = ny-1\n",
    "uLB = 0.04                  # Inlet velocity NON PHYSICAL??\n",
    "cx,cy,r = nx//4,ny//2,ny/9  # cylinder coordinates and radius (as integers)\n",
    "nulb = uLB*r/Re             # Viscosity\n",
    "omega = 1 / (3*nulb+0.5)    # Relaxation parameter\n"
   ]
  },
  {
   "cell_type": "code",
   "execution_count": 9,
   "id": "d3aca8f8-2842-48a5-b364-ce7e409404f9",
   "metadata": {},
   "outputs": [],
   "source": [
    "\n",
    "# lattice velocities\n",
    "v = cp.array([\n",
    "            [1,1],\n",
    "            [1,0],\n",
    "            [1,-1],\n",
    "            [0,1],\n",
    "            [0,0],\n",
    "            [0,-1],\n",
    "            [-1,1],\n",
    "            [-1,0],\n",
    "            [-1,-1]\n",
    "            ])\n",
    "\n",
    "# weights\n",
    "t = cp.array([\n",
    "            1/36,\n",
    "            1/9,\n",
    "            1/36,\n",
    "            1/9,\n",
    "            4/9,\n",
    "            1/9,\n",
    "            1/36,\n",
    "            1/9,\n",
    "            1/36\n",
    "            ])"
   ]
  },
  {
   "cell_type": "code",
   "execution_count": 10,
   "id": "840fc29c-f1bd-4cd4-a844-ae7a269d1af2",
   "metadata": {},
   "outputs": [],
   "source": [
    "col_0 = cp.array([0,1,2])\n",
    "col_1 = cp.array([3,4,5])\n",
    "col_2 = cp.array([6,7,8])\n",
    "\n"
   ]
  },
  {
   "cell_type": "code",
   "execution_count": 11,
   "id": "6629f3d7-8308-495a-bb2a-5dd949f9721d",
   "metadata": {},
   "outputs": [
    {
     "data": {
      "image/png": "[encoded data removed]",
      "text/plain": [
       "<Figure size 640x480 with 1 Axes>"
      ]
     },
     "metadata": {},
     "output_type": "display_data"
    }
   ],
   "source": [
    "# kwargs['shape'] = [nx, ny]\n",
    "# instantiate the cylindrical obstacle\n",
    "obstacle = cp.array(cp.fromfunction(obstacle_fun(cx,cy,r),(nx, ny)))\n",
    "ob = obstacle.get()\n",
    "if True:\n",
    "  plt.imshow(ob)\n"
   ]
  },
  {
   "cell_type": "code",
   "execution_count": 12,
   "id": "c005701d-400c-4d62-ba74-4eeddcac81fe",
   "metadata": {},
   "outputs": [
    {
     "name": "stderr",
     "output_type": "stream",
     "text": [
      "100%|███████████████████████████████████████████████████████████████████████████| 30000/30000 [13:31<00:00, 36.97it/s]\n"
     ]
    },
    {
     "name": "stdout",
     "output_type": "stream",
     "text": [
      "time to execute =  811.3654053211212\n"
     ]
    },
    {
     "data": {
      "image/png": "[encoded data removed]",
      "text/plain": [
       "<Figure size 640x480 with 2 Axes>"
      ]
     },
     "metadata": {},
     "output_type": "display_data"
    }
   ],
   "source": [
    "\n",
    "# initial velocity profile\n",
    "# vel = cp.fromfunction(inivel(uLB,ly),(2,nx,ny))\n",
    "vel = inivel(uLB, ly, 2, nx, ny)\n",
    "# tpb = 16\n",
    "# size = 10000\n",
    "# block = (size // tpb)\n",
    "# initialize fin to equilibirum (rho = 1)\n",
    "# fin = equilibrium[block, tpb](1,vel,v,t,nx,ny)\n",
    "fin = equilibrium(1,vel,v,t,nx,ny)\n",
    "\n",
    "#==============================================================================\n",
    "#   Time-Stepping\n",
    "#==============================================================================\n",
    "t0 = ti()\n",
    "for time in tqdm(range(maxIter)):\n",
    "    # outflow boundary condition (right side) NEUMANN BC! No gradient\n",
    "    fin[col_2,-1,:] = fin[col_2,-2,:]\n",
    "    # compute macroscopic variables\n",
    "    \n",
    "    # rho,u = macroscopic[block, tpb](fin,nx,ny,v)\n",
    "    rho,u = macroscopic(fin,nx,ny,v)\n",
    "\n",
    "    # inlet boundary condition (left wall)\n",
    "    u[:,0,:] = vel[:,0,:]\n",
    "    rho[0,:] = 1/(1-u[0,0,:])*( cp.sum(fin[col_1,0,:], axis = 0)+\n",
    "                                2*cp.sum(fin[col_2,0,:], axis = 0))\n",
    "\n",
    "    feq = equilibrium(rho,u,v,t,nx,ny)\n",
    "    fin[col_0,0,:] = feq[col_0,0,:] + fin[col_2,0,:]-feq[col_2,0,:]\n",
    "\n",
    "    # Collide\n",
    "    fout = fin - omega*(fin-feq)\n",
    "\n",
    "    # bounceback\n",
    "    for i in range(9):\n",
    "        fout[i,obstacle] = fin[8-i,obstacle]\n",
    "\n",
    "    # stream\n",
    "    for i in range(9):\n",
    "        # be careful with this -> numpy.roll cycles through an array by an axis\n",
    "        # and the last element becomes the first. this implements a periodic\n",
    "        # boundary in a very compact syntax, but needs to be reworked for other\n",
    "        # implementations\n",
    "        fin[i,:,:] = cp.roll(\n",
    "                          cp.roll(\n",
    "                                fout[i,:,:], v[i,0], axis = 0\n",
    "                               ),\n",
    "                          v[i,1], axis = 1\n",
    "                          )\n",
    "\n",
    "    # Output an image every 100 iterations\n",
    "    if (time%100 == 0):\n",
    "        plt.clf()\n",
    "        u_temp = u.get()\n",
    "        # x_temp = int(round(5 * nx / ny))\n",
    "        # y_temp = int(round(5))\n",
    "        plt.imshow(np.sqrt(u_temp[0]**2+u_temp[1]**2).T, cmap= 'jet')\n",
    "        plt.colorbar()\n",
    "        plt.title(f\"Velocity Magnitude at Iteration {time}\")\n",
    "        plt.xlabel(\"X\")\n",
    "        plt.ylabel(\"Y\")\n",
    "        plt.savefig(\"./cupyTest/vel{0:03d}.png\".format(time//100))\n",
    "tf = ti() - t0\n",
    "\n",
    "print(\"time to execute = \",tf)"
   ]
  },
  {
   "cell_type": "code",
   "execution_count": 13,
   "id": "6ced2aac-3228-41c0-92e8-404148a73a37",
   "metadata": {},
   "outputs": [],
   "source": [
    "# ! nsys profile python3 fSimCupy.py"
   ]
  },
  {
   "cell_type": "code",
   "execution_count": null,
   "id": "ee11a1c5-8632-4116-bcb7-0be0ea5abb6d",
   "metadata": {},
   "outputs": [],
   "source": []
  },
  {
   "cell_type": "code",
   "execution_count": null,
   "id": "c9282609-e098-4947-8b73-32c9c1f82a0d",
   "metadata": {},
   "outputs": [],
   "source": []
  }
 ],
 "metadata": {
  "kernelspec": {
   "display_name": "Python 3 (ipykernel)",
   "language": "python",
   "name": "python3"
  },
  "language_info": {
   "codemirror_mode": {
    "name": "ipython",
    "version": 3
   },
   "file_extension": ".py",
   "mimetype": "text/x-python",
   "name": "python",
   "nbconvert_exporter": "python",
   "pygments_lexer": "ipython3",
   "version": "3.8.18"
  }
 },
 "nbformat": 4,
 "nbformat_minor": 5
}
