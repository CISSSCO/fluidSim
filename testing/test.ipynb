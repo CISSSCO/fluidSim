{
 "cells": [
  {
   "cell_type": "code",
   "execution_count": 19,
   "id": "552fbd06-0a56-4c1a-ab6b-fb1aa105e523",
   "metadata": {},
   "outputs": [],
   "source": [
    "import numpy as np\n",
    "import numba as nb\n",
    "import cupy as cp\n",
    "from numba import cuda\n",
    "import random\n",
    "\n",
    "from torch import zeros, tensor, roll, sin, sqrt, linspace\n",
    "from torch import sum as tsum\n",
    "import torch\n",
    "\n",
    "size = 100000"
   ]
  },
  {
   "cell_type": "code",
   "execution_count": 20,
   "id": "5f651a44-150e-48b3-800f-475a398506af",
   "metadata": {},
   "outputs": [
    {
     "name": "stdout",
     "output_type": "stream",
     "text": [
      "cuda\n"
     ]
    }
   ],
   "source": [
    "# @nb.jit(nopython=True)    # enable this for using jit\n",
    "def add(r, x, y):\n",
    "    for i in range(0, size):\n",
    "        r[i] = x[i] + y[i]\n",
    "    return r\n",
    "\n",
    "# # @cuda.jit\n",
    "# def add(r, x, y):\n",
    "#     i = cuda.grid(1)\n",
    "#     if i < x.shape[0] - 1:\n",
    "#         r[i] = x[i] + y[i]\n",
    "\n",
    "# for pytorch\n",
    "device = torch.device('cuda' if torch.cuda.is_available() else 'cpu')\n",
    "print(device)"
   ]
  },
  {
   "cell_type": "code",
   "execution_count": 21,
   "id": "9934c9ec-60db-4b04-8faa-81ba2fb082c6",
   "metadata": {},
   "outputs": [],
   "source": [
    "\n",
    "# a = np.random.randint(1,101, size)\n",
    "# b = np.random.randint(1,101, size)\n",
    "# a_gpu = cuda.to_device(a)\n",
    "# b_gpu = cuda.to_device(b)\n",
    "# s_gpu = cuda.device_array_like(a)\n",
    "\n",
    "a = tensor(np.random.randint(1,101, size)).to(device)\n",
    "b = tensor(np.random.randint(1,101, size)).to(device)"
   ]
  },
  {
   "cell_type": "code",
   "execution_count": null,
   "id": "79fdb312-1f0e-41a7-bdf6-109dcea190ea",
   "metadata": {},
   "outputs": [],
   "source": [
    "# %%time\n",
    "# tpb = 256\n",
    "# block = (a.shape[0] // tpb) + 1\n",
    "# add[block, tpb](s_gpu, a_gpu, b_gpu)\n",
    "# s = s_gpu.copy_to_host()\n",
    "# s\n",
    "\n",
    "\n",
    "# # pytorch\n",
    "# c = tensor(np.zeros(size)).to(device)\n",
    "# c = add(c, a, b)\n",
    "# cc = c.cpu()\n",
    "# c"
   ]
  },
  {
   "cell_type": "code",
   "execution_count": null,
   "id": "115c8298-b512-482b-9cb5-2b0c711c0d8f",
   "metadata": {},
   "outputs": [],
   "source": [
    "# %%time\n",
    "# add[block, tpb](s_gpu, a_gpu, b_gpu)\n",
    "# t = s_gpu.copy_to_host()\n",
    "# t"
   ]
  },
  {
   "cell_type": "code",
   "execution_count": null,
   "id": "0c393645-cdd6-4f08-9dcb-c12f1aa0bf3b",
   "metadata": {},
   "outputs": [],
   "source": [
    "# %%time\n",
    "# r = np.zeros(size)\n",
    "# r = add(r , a, b)\n",
    "# r"
   ]
  },
  {
   "cell_type": "code",
   "execution_count": null,
   "id": "d11624b3-1dad-4e97-a956-c6432b63621e",
   "metadata": {},
   "outputs": [],
   "source": []
  },
  {
   "cell_type": "code",
   "execution_count": null,
   "id": "122028e4-46b8-45a2-be7a-076b6e366be9",
   "metadata": {},
   "outputs": [],
   "source": []
  }
 ],
 "metadata": {
  "kernelspec": {
   "display_name": "Python 3 (ipykernel)",
   "language": "python",
   "name": "python3"
  },
  "language_info": {
   "codemirror_mode": {
    "name": "ipython",
    "version": 3
   },
   "file_extension": ".py",
   "mimetype": "text/x-python",
   "name": "python",
   "nbconvert_exporter": "python",
   "pygments_lexer": "ipython3",
   "version": "3.8.18"
  }
 },
 "nbformat": 4,
 "nbformat_minor": 5
}
