{
 "cells": [
  {
   "cell_type": "code",
   "execution_count": 1,
   "id": "7327e81e-8ff7-460e-871e-aac51593ad40",
   "metadata": {},
   "outputs": [
    {
     "name": "stderr",
     "output_type": "stream",
     "text": [
      "/home/cisco581b/.local/lib/python3.8/site-packages/cupy/_environment.py:447: UserWarning: \n",
      "--------------------------------------------------------------------------------\n",
      "\n",
      "  CuPy may not function correctly because multiple CuPy packages are installed\n",
      "  in your environment:\n",
      "\n",
      "    cupy, cupy-cuda12x\n",
      "\n",
      "  Follow these steps to resolve this issue:\n",
      "\n",
      "    1. For all packages listed above, run the following command to remove all\n",
      "       existing CuPy installations:\n",
      "\n",
      "         $ pip uninstall <package_name>\n",
      "\n",
      "      If you previously installed CuPy via conda, also run the following:\n",
      "\n",
      "         $ conda uninstall cupy\n",
      "\n",
      "    2. Install the appropriate CuPy package.\n",
      "       Refer to the Installation Guide for detailed instructions.\n",
      "\n",
      "         https://docs.cupy.dev/en/stable/install.html\n",
      "\n",
      "--------------------------------------------------------------------------------\n",
      "\n",
      "  warnings.warn(f'''\n"
     ]
    }
   ],
   "source": [
    "\n",
    "import numpy as np\n",
    "import matplotlib.pyplot as plt\n",
    "from time import time as ti\n",
    "from matplotlib import cm\n",
    "from tqdm import tqdm\n",
    "from numba import cuda\n",
    "# import nvtx\n",
    "import cupy as cp\n",
    "import numba as nb"
   ]
  },
  {
   "cell_type": "code",
   "execution_count": 2,
   "id": "1e515a51-ed8d-4d0f-8857-8202d6877a58",
   "metadata": {},
   "outputs": [],
   "source": [
    "\n",
    "@cuda.jit\n",
    "def macroscopic(rho, u, fin, nx, ny, v):\n",
    "    i, j = cuda.grid(2)\n",
    "    \n",
    "    if i < nx and j < ny:\n",
    "        rho[i, j] = 0.0\n",
    "        u[i, j, 0] = 0.0\n",
    "        u[i, j, 1] = 0.0\n",
    "        for k in range(9):\n",
    "            rho[i, j] += fin[k, i, j]\n",
    "            u[i, j, 0] += fin[k, i, j] * v[k, 0]\n",
    "            u[i, j, 1] += fin[k, i, j] * v[k, 1]\n",
    "        u[i, j, 0] /= rho[i, j]\n",
    "        u[i, j, 1] /= rho[i, j]"
   ]
  },
  {
   "cell_type": "code",
   "execution_count": 3,
   "id": "9f250ab2-f387-4bbd-a144-666539f0c1c4",
   "metadata": {},
   "outputs": [],
   "source": [
    "@cuda.jit\n",
    "def equilibrium(feq, rho, u, v, t):\n",
    "    nx, ny, _ = u.shape\n",
    "    i, j = cuda.grid(2)\n",
    "    \n",
    "    if i < nx and j < ny:\n",
    "        usqr = (3/2)*(u[i, j, 0]**2 + u[i, j, 1]**2)\n",
    "        for k in range(9):\n",
    "            cu = 3*(v[k, 0]*u[i, j, 0] + v[k, 1]*u[i, j, 1])\n",
    "            feq[k, i, j] = rho*t[k]*(1 + cu + 0.5*cu**2 - usqr)"
   ]
  },
  {
   "cell_type": "code",
   "execution_count": 4,
   "id": "504b34a5-33e3-4138-857e-0478ea75e8cb",
   "metadata": {},
   "outputs": [],
   "source": [
    "def obstacle_fun(cx, cy, r):\n",
    "    def inner(x, y):\n",
    "        return (x-cx)**2+(y-cy)**2<r**2\n",
    "    return inner\n"
   ]
  },
  {
   "cell_type": "code",
   "execution_count": 5,
   "id": "f4a91392-c416-4817-afd6-75a398e7d554",
   "metadata": {},
   "outputs": [],
   "source": [
    "def inivel(uLB, ly, d, nx, ny):\n",
    "    yy = cp.linspace(0, ny - 1, ny).repeat(nx).reshape((ny, nx))\n",
    "    yy = yy.T\n",
    "    vel = cp.zeros((d, nx, ny))\n",
    "    for dir in range(d):\n",
    "        vel[dir,:,:] = (1-dir) * uLB * (1 + 1e-4 * cp.sin(yy / ly * 2 * cp.pi))\n",
    "    return vel"
   ]
  },
  {
   "cell_type": "code",
   "execution_count": 60,
   "id": "34ece203-22f0-44cf-8bf9-e7212c4cd314",
   "metadata": {},
   "outputs": [],
   "source": [
    "Re = 10.0\n",
    "maxIter = 70000\n",
    "nx, ny = 720, 380\n",
    "ly = ny-1\n",
    "uLB = 0.04\n",
    "cx, cy, r = nx//4, ny//2, ny/9\n",
    "nulb = uLB*r/Re\n",
    "omega = 1 / (3*nulb+0.5)\n",
    "\n",
    "v = cp.array([\n",
    "            [1,1],\n",
    "            [1,0],\n",
    "            [1,-1],\n",
    "            [0,1],\n",
    "            [0,0],\n",
    "            [0,-1],\n",
    "            [-1,1],\n",
    "            [-1,0],\n",
    "            [-1,-1]\n",
    "            ])\n",
    "\n",
    "t = cp.array([\n",
    "            1/36,\n",
    "            1/9,\n",
    "            1/36,\n",
    "            1/9,\n",
    "            4/9,\n",
    "            1/9,\n",
    "            1/36,\n",
    "            1/9,\n",
    "            1/36\n",
    "            ])\n",
    "\n",
    "col_0 = cp.array([0,1,2])\n",
    "col_1 = cp.array([3,4,5])\n",
    "col_2 = cp.array([6,7,8])"
   ]
  },
  {
   "cell_type": "code",
   "execution_count": 61,
   "id": "753472cb-46e2-4561-8706-394dd5028d75",
   "metadata": {},
   "outputs": [
    {
     "data": {
      "image/png": "[encoded data removed]",
      "text/plain": [
       "<Figure size 640x480 with 1 Axes>"
      ]
     },
     "metadata": {},
     "output_type": "display_data"
    }
   ],
   "source": [
    "obstacle = cp.array(cp.fromfunction(obstacle_fun(cx,cy,r),(nx, ny)))\n",
    "ob = obstacle.get()\n",
    "if True:\n",
    "  plt.imshow(ob)"
   ]
  },
  {
   "cell_type": "code",
   "execution_count": null,
   "id": "01a7b560-912a-47a5-af03-ca6f38b3e6cb",
   "metadata": {},
   "outputs": [],
   "source": []
  },
  {
   "cell_type": "code",
   "execution_count": null,
   "id": "0249652d-fe55-4d15-9c7f-7a8fb4cba890",
   "metadata": {},
   "outputs": [],
   "source": []
  },
  {
   "cell_type": "code",
   "execution_count": 62,
   "id": "371f4131-fd19-476e-9907-ea7d7602deef",
   "metadata": {},
   "outputs": [],
   "source": [
    "# def compute_rho(fin_col_1, fin_col_2, u_0):\n",
    "#     return 1 / (1 - u_0) * (cp.sum(fin_col_1, axis=0) + 2 * cp.sum(fin_col_2, axis=0))\n",
    "\n",
    "# def compute_rho(fin_col_1, fin_col_2, u_0):\n",
    "#     u_0_broadcasted = cp.broadcast_to(u_0, (len(fin_col_1),))  # Broadcasting u_0\n",
    "#     return 1 / (1 - u_0_broadcasted) * (fin_col_1 + 2 * fin_col_2)\n",
    "\n",
    "# def compute_rho(fin_col_1, fin_col_2, u_0):\n",
    "#     u_0_reshaped = cp.reshape(u_0, (-1,))  # Reshape u_0 to a 1D array\n",
    "#     return 1 / (1 - u_0_reshaped) * (fin_col_1 + 2 * fin_col_2)\n",
    "\n",
    "# def compute_rho(fin_col_1, fin_col_2, u_0):\n",
    "#     u_0_broadcasted = cp.tile(cp.reshape(u_0, (1, -1)), (fin_col_1.shape[0], 1))  # Broadcast u_0\n",
    "#     return 1 / (1 - u_0_broadcasted) * (fin_col_1 + 2 * fin_col_2)\n",
    "\n",
    "# def compute_rho(fin_col_1, fin_col_2, u_0):\n",
    "#     u_0_broadcasted = cp.tile(cp.reshape(u_0, (-1, 1)), (1, fin_col_1.shape[1]))  # Broadcast u_0\n",
    "#     return 1 / (1 - u_0_broadcasted) * (fin_col_1 + 2 * fin_col_2)\n",
    "\n",
    "# def compute_rho(fin_col_1, fin_col_2, u_0):\n",
    "#     # u_0_broadcasted = cp.tile(cp.reshape(u_0, (1, -1)), (fin_col_1.shape[0], 1))  # Broadcast u_0\n",
    "#     # return 1 / (1 - u_0_broadcasted) * (fin_col_1 + 2 * fin_col_2)\n",
    "#     u_0_broadcasted = u_0.reshape((1, 380))\n",
    "#     return 1 / (1 - u_0_broadcasted) * (fin_col_1 + 2 * fin_col_2)\n",
    "\n",
    "def compute_rho_from_equilibrium(feq):\n",
    "  \"\"\"\n",
    "  Calculates density from the equilibrium distribution function.\n",
    "\n",
    "  Args:\n",
    "    feq: CuPy array of shape (9, nx, ny) representing the equilibrium distribution function.\n",
    "\n",
    "  Returns:\n",
    "    CuPy array of shape (nx, ny) representing the density.\n",
    "  \"\"\"\n",
    "  return cp.sum(feq, axis=0)"
   ]
  },
  {
   "cell_type": "code",
   "execution_count": 64,
   "id": "4af48b98-130b-48b6-b705-e32252509b34",
   "metadata": {},
   "outputs": [],
   "source": [
    "def time_stepping(feq, maxIter, nx, ny, obstacle, vel, v, t, omega):\n",
    "    t0 = ti()\n",
    "    for time in tqdm(range(maxIter)):\n",
    "        threadsperblock = (16, 16)\n",
    "        blockspergrid_x = (nx + threadsperblock[0] - 1) // threadsperblock[0]\n",
    "        blockspergrid_y = (ny + threadsperblock[1] - 1) // threadsperblock[1]\n",
    "        blockspergrid = (blockspergrid_x, blockspergrid_y)\n",
    "        \n",
    "        equilibrium[blockspergrid, threadsperblock](feq, 1, vel, v, t)\n",
    "        fin = cp.zeros((9, nx, ny))\n",
    "        # Outflow boundary condition (right side)\n",
    "        fin[2, -1, :] = fin[2, -2, :]\n",
    "\n",
    "        # Compute macroscopic variables\n",
    "        rho = cp.zeros((nx, ny))\n",
    "        u = cp.zeros((nx, ny, 2))\n",
    "        macroscopic[blockspergrid, threadsperblock](rho, u, fin, nx, ny, v)\n",
    "        \n",
    "        # Inlet boundary condition (left wall)\n",
    "        u[0, :, :] = vel[:, 0, :].T\n",
    "        rho = compute_rho_from_equilibrium(feq)\n",
    "        # rho[0, :] = compute_rho(fin[col_0, 0, :], fin[col_1, 0, :], u[0, 0, :])\n",
    "        # u_0_inv = 1 / (1 - u_0)\n",
    "        # rho = u_0_inv * (fin_col_1 + 2 * fin_col_2)\n",
    "\n",
    "        # Collide\n",
    "        fout = fin - omega * (fin - feq)\n",
    "\n",
    "        # Bounce-back\n",
    "        for i in range(9):\n",
    "            fout[i, obstacle] = fin[8 - i, obstacle]\n",
    "\n",
    "        # Stream\n",
    "        for i in range(9):\n",
    "            fin[i, :, :] = cp.roll(cp.roll(fout[i, :, :], v[i, 0], axis=0), v[i, 1], axis=1)\n",
    "\n",
    "        # Output an image every 100 iterations\n",
    "        if time % 100 == 0:\n",
    "            plt.clf()\n",
    "            u_temp = u.get()\n",
    "            magnitude = np.sqrt(u_temp[0]**2 + u_temp[1]**2).T\n",
    "            plt.imshow(magnitude, cmap='Reds', interpolation='nearest') \n",
    "            plt.colorbar()\n",
    "            plt.title(f\"Velocity Magnitude at Iteration {time}\")\n",
    "            plt.xlabel(\"X\")\n",
    "            plt.ylabel(\"Y\")\n",
    "            plt.savefig(f\"./testFolder/vel_{time:03d}.png\")\n",
    "\n",
    "    tf = ti() - t0\n",
    "    print(\"Time to execute:\", tf)\n"
   ]
  },
  {
   "cell_type": "code",
   "execution_count": 15,
   "id": "44995d73-c2d5-48e8-8091-27623a5cad0a",
   "metadata": {},
   "outputs": [],
   "source": [
    "# def time_stepping(feq, maxIter, nx, ny, obstacle, vel, v, t, omega):\n",
    "#     t0 = ti()\n",
    "#     for time in tqdm(range(maxIter)):\n",
    "#         fin = cp.zeros((9, nx, ny))\n",
    "#         # Outflow boundary condition (right side)\n",
    "#         fin[2, -1, :] = fin[2, -2, :]\n",
    "\n",
    "#         # Compute macroscopic variables\n",
    "#         rho = cp.zeros((nx, ny))\n",
    "#         u = cp.zeros((nx, ny, 2))\n",
    "#         macroscopic[blockspergrid, threadsperblock](rho, u, fin, nx, ny, v)\n",
    "        \n",
    "#         # Inlet boundary condition (left wall)\n",
    "#         u[0, :, :] = vel[:, 0, :].T\n",
    "\n",
    "#         # Collide\n",
    "#         fout = fin - omega * (fin - feq)\n",
    "\n",
    "#         # Bounce-back\n",
    "#         for i in range(9):\n",
    "#             fout[i, obstacle] = fin[8 - i, obstacle]\n",
    "\n",
    "#         # Stream\n",
    "#         for i in range(9):\n",
    "#             fin[i, :, :] = cp.roll(cp.roll(fout[i, :, :], v[i, 0], axis=0), v[i, 1], axis=1)\n",
    "\n",
    "#         # Output an image every 100 iterations\n",
    "#         if time % 100 == 0:\n",
    "#             plt.clf()\n",
    "#             u_temp = u.get()\n",
    "#             plt.imshow(np.sqrt(u_temp[0]**2 + u_temp[1]**2).T, cmap='Reds', interpolation='nearest')\n",
    "#             plt.savefig(f\"./testFolder/vel{time//100:03d}.png\")\n",
    "\n",
    "#     tf = ti() - t0\n",
    "#     print(\"Time to execute:\", tf)"
   ]
  },
  {
   "cell_type": "code",
   "execution_count": 65,
   "id": "fed52948-9c0b-439a-88e2-aebf21c122c3",
   "metadata": {},
   "outputs": [
    {
     "name": "stderr",
     "output_type": "stream",
     "text": [
      "  1%|▊                                                                            | 775/70000 [00:17<26:19, 43.81it/s]\n"
     ]
    },
    {
     "ename": "KeyboardInterrupt",
     "evalue": "",
     "output_type": "error",
     "traceback": [
      "\u001b[0;31m---------------------------------------------------------------------------\u001b[0m",
      "\u001b[0;31mKeyboardInterrupt\u001b[0m                         Traceback (most recent call last)",
      "Cell \u001b[0;32mIn[65], line 11\u001b[0m\n\u001b[1;32m      7\u001b[0m blockspergrid \u001b[38;5;241m=\u001b[39m (blockspergrid_x, blockspergrid_y)\n\u001b[1;32m      9\u001b[0m equilibrium[blockspergrid, threadsperblock](feq, \u001b[38;5;241m1\u001b[39m, vel, v, t)\n\u001b[0;32m---> 11\u001b[0m \u001b[43mtime_stepping\u001b[49m\u001b[43m(\u001b[49m\u001b[43mfeq\u001b[49m\u001b[43m,\u001b[49m\u001b[43m \u001b[49m\u001b[43mmaxIter\u001b[49m\u001b[43m,\u001b[49m\u001b[43m \u001b[49m\u001b[43mnx\u001b[49m\u001b[43m,\u001b[49m\u001b[43m \u001b[49m\u001b[43mny\u001b[49m\u001b[43m,\u001b[49m\u001b[43m \u001b[49m\u001b[43mobstacle\u001b[49m\u001b[43m,\u001b[49m\u001b[43m \u001b[49m\u001b[43mvel\u001b[49m\u001b[43m,\u001b[49m\u001b[43m \u001b[49m\u001b[43mv\u001b[49m\u001b[43m,\u001b[49m\u001b[43m \u001b[49m\u001b[43mt\u001b[49m\u001b[43m,\u001b[49m\u001b[43m \u001b[49m\u001b[43momega\u001b[49m\u001b[43m)\u001b[49m\n",
      "Cell \u001b[0;32mIn[64], line 31\u001b[0m, in \u001b[0;36mtime_stepping\u001b[0;34m(feq, maxIter, nx, ny, obstacle, vel, v, t, omega)\u001b[0m\n\u001b[1;32m     29\u001b[0m \u001b[38;5;66;03m# Bounce-back\u001b[39;00m\n\u001b[1;32m     30\u001b[0m \u001b[38;5;28;01mfor\u001b[39;00m i \u001b[38;5;129;01min\u001b[39;00m \u001b[38;5;28mrange\u001b[39m(\u001b[38;5;241m9\u001b[39m):\n\u001b[0;32m---> 31\u001b[0m     fout[i, obstacle] \u001b[38;5;241m=\u001b[39m \u001b[43mfin\u001b[49m\u001b[43m[\u001b[49m\u001b[38;5;241;43m8\u001b[39;49m\u001b[43m \u001b[49m\u001b[38;5;241;43m-\u001b[39;49m\u001b[43m \u001b[49m\u001b[43mi\u001b[49m\u001b[43m,\u001b[49m\u001b[43m \u001b[49m\u001b[43mobstacle\u001b[49m\u001b[43m]\u001b[49m\n\u001b[1;32m     33\u001b[0m \u001b[38;5;66;03m# Stream\u001b[39;00m\n\u001b[1;32m     34\u001b[0m \u001b[38;5;28;01mfor\u001b[39;00m i \u001b[38;5;129;01min\u001b[39;00m \u001b[38;5;28mrange\u001b[39m(\u001b[38;5;241m9\u001b[39m):\n",
      "\u001b[0;31mKeyboardInterrupt\u001b[0m: "
     ]
    },
    {
     "data": {
      "image/png": "[encoded data removed]",
      "text/plain": [
       "<Figure size 640x480 with 2 Axes>"
      ]
     },
     "metadata": {},
     "output_type": "display_data"
    }
   ],
   "source": [
    "vel = inivel(uLB, ly, 2, nx, ny)\n",
    "feq = cp.zeros((9, nx, ny))\n",
    "\n",
    "threadsperblock = (16, 16)\n",
    "blockspergrid_x = (nx + threadsperblock[0] - 1) // threadsperblock[0]\n",
    "blockspergrid_y = (ny + threadsperblock[1] - 1) // threadsperblock[1]\n",
    "blockspergrid = (blockspergrid_x, blockspergrid_y)\n",
    "\n",
    "equilibrium[blockspergrid, threadsperblock](feq, 1, vel, v, t)\n",
    "\n",
    "time_stepping(feq, maxIter, nx, ny, obstacle, vel, v, t, omega)"
   ]
  },
  {
   "cell_type": "code",
   "execution_count": null,
   "id": "260125b4-2b7c-467f-854b-d91552683717",
   "metadata": {},
   "outputs": [],
   "source": []
  }
 ],
 "metadata": {
  "kernelspec": {
   "display_name": "Python 3 (ipykernel)",
   "language": "python",
   "name": "python3"
  },
  "language_info": {
   "codemirror_mode": {
    "name": "ipython",
    "version": 3
   },
   "file_extension": ".py",
   "mimetype": "text/x-python",
   "name": "python",
   "nbconvert_exporter": "python",
   "pygments_lexer": "ipython3",
   "version": "3.8.18"
  }
 },
 "nbformat": 4,
 "nbformat_minor": 5
}
