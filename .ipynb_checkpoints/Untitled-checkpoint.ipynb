{
 "cells": [
  {
   "cell_type": "code",
   "execution_count": null,
   "id": "1e4a7fd8",
   "metadata": {},
   "outputs": [],
   "source": [
    "import numpy as np\n",
    "import matplotlib.pyplot as plt\n",
    "from time import time as ti\n",
    "from matplotlib import cm\n",
    "from tqdm import tqdm\n",
    "\n",
    "# for pytorch\n",
    "from torch import zeros, tensor, roll, sin, sqrt, linspace\n",
    "from torch import sum as tsum\n",
    "import torch"
   ]
  },
  {
   "cell_type": "code",
   "execution_count": null,
   "id": "5dc21df7",
   "metadata": {},
   "outputs": [],
   "source": [
    "print(\"hii\")"
   ]
  }
 ],
 "metadata": {
  "kernelspec": {
   "display_name": "Python 3 (ipykernel)",
   "language": "python",
   "name": "python3"
  }
 },
 "nbformat": 4,
 "nbformat_minor": 5
}
